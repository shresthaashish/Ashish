{
 "cells": [
  {
   "cell_type": "code",
   "execution_count": 1,
   "metadata": {
    "collapsed": false
   },
   "outputs": [],
   "source": [
    "%matplotlib inline\n",
    "%load_ext autoreload\n",
    "%autoreload 2"
   ]
  },
  {
   "cell_type": "code",
   "execution_count": 2,
   "metadata": {
    "collapsed": false
   },
   "outputs": [],
   "source": [
    "import numpy as np\n",
    "import datetime\n",
    "from os import listdir\n",
    "import os \n",
    "from planet_common.raster import plimage\n",
    "from planet_common.calibration import mask as imagemask, ground_radiometric_calibration\n",
    "from planet_common.client import storage, urls\n",
    "import subprocess\n",
    "urls.set_urls('pl')\n",
    "from osgeo import gdal, gdal_array\n",
    "import matplotlib.pyplot as plt\n",
    "import math\n",
    "import csv\n"
   ]
  },
  {
   "cell_type": "code",
   "execution_count": 3,
   "metadata": {
    "collapsed": false
   },
   "outputs": [],
   "source": [
    "def scene_search_by_geojson_filter(bucket,sat,poly):\n",
    "    scene_file=[];\n",
    "    scene_name=[];\n",
    "    scene_filter = storage.SceneFilter(satellite=sat,rpoly=poly)\n",
    "    for scene in storage.BucketIterator(bucket,scene_filter=scene_filter):\n",
    "        scene_file.append(storage.get_scene_file(None, bucket, scene['name']))\n",
    "        scene_name.append(scene['name'])\n",
    "    return scene_file,scene_name\n",
    "    \n",
    "def read_image(image_path):\n",
    "    pl_image = plimage.load(image_path)\n",
    "    #alphas = imagemask.generate_alpha_masks(pl_image, camera_type)\n",
    "    if pl_image.alpha is None:\n",
    "            pl_image.create_alpha()\n",
    "    '''pl_rgb = np.clip((np.dstack(pl_image.bands) / 2**2), 0, 255).astype(np.uint8) \n",
    "    pl_rgb[pl_image.alpha == 0, :] = 0\n",
    "    plt.imshow(pl_rgb)'''\n",
    "    '''for b in pl_image.bands:\n",
    "        b[pl_image.alpha == 0]=0'''\n",
    "        \n",
    "    #pl_image.bands[0][pl_image.alpha == 0] = 0\n",
    "    #pl_image.save('test.tif')\n",
    "    return (pl_image)\n"
   ]
  },
  {
   "cell_type": "code",
   "execution_count": 4,
   "metadata": {
    "collapsed": false
   },
   "outputs": [],
   "source": [
    "def find_Landsat_image(Landsat_bucket, pl_img):\n",
    "    images=np.array(listdir(Landsat_bucket))\n",
    "    numofscenes=len(images) \n",
    "    yyyy=str(pl_img[0:4])\n",
    "    mm= str(pl_img[4:6])\n",
    "    dd=str(pl_img[6:8]) \n",
    "    fmt = '%Y.%m.%d'\n",
    "    date=yyyy+'.'+mm+'.'+dd\n",
    "    dt = datetime.datetime.strptime(date, fmt)\n",
    "    tt = dt.timetuple()\n",
    "    pl_doy=tt.tm_yday\n",
    "    for z in range(0, numofscenes):\n",
    "        date=images[z]\n",
    "        if (date[0:2]=='LC'):\n",
    "            l8_yyyy=date[9:13]\n",
    "            l8_doy=date[13:16]\n",
    "            if(l8_yyyy==yyyy):\n",
    "                if(abs(int(pl_doy)-int(l8_doy))<9):\n",
    "                    landsat_image=images[z]\n",
    "    \n",
    "    return landsat_image\n",
    "    "
   ]
  },
  {
   "cell_type": "code",
   "execution_count": 5,
   "metadata": {
    "collapsed": true
   },
   "outputs": [],
   "source": [
    "def calculate_band_averaged_dns(pl_image):\n",
    "    alpha_mask = pl_image.alpha == 0\n",
    "    \n",
    "    band_averaged_dns = [np.ma.masked_array(b, mask=alpha_mask).mean()\n",
    "                         for b in pl_image.bands]\n",
    "\n",
    "    return np.array(band_averaged_dns)"
   ]
  },
  {
   "cell_type": "code",
   "execution_count": 6,
   "metadata": {
    "collapsed": false
   },
   "outputs": [],
   "source": [
    "def extent_to_shp(input_filename, shp_filename):\n",
    "    if os.path.isfile(shp_filename):\n",
    "        os.unlink(shp_filename)\n",
    "    opts = ['-t_srs', 'EPSG:4326']\n",
    "    cmds = ['gdaltindex'] + opts + [shp_filename, input_filename]\n",
    "    subprocess.check_call(cmds)\n",
    "\n",
    "def image_stack(input_filenames, output_filenames, image):\n",
    "    temp_shapefile = \"tmp.shp\"\n",
    "    extent_to_shp(image, temp_shapefile)\n",
    "\n",
    "    gdal_ds = gdal.Open(image)\n",
    "    if gdal_ds is None:\n",
    "        raise Exception('Unable to open file \"%s\" with gdal.Open()' % (\n",
    "            image))\n",
    "    \n",
    "    for input_filename, output_filename in zip(input_filenames, output_filenames):\n",
    "        opts = ['-q', '-overwrite']\n",
    "        #, '-dstnodata', str(nodata)]\n",
    "        opts += ['-crop_to_cutline', '-cutline', temp_shapefile]\n",
    "        opts += ['-ts', str(gdal_ds.RasterXSize), str(gdal_ds.RasterYSize)]\n",
    "        cmds = ['gdalwarp'] + opts + [input_filename, output_filename]\n",
    "        subprocess.check_call(cmds)\n",
    "    os.remove(\"tmp.shp\")"
   ]
  },
  {
   "cell_type": "code",
   "execution_count": 7,
   "metadata": {
    "collapsed": true
   },
   "outputs": [],
   "source": [
    "def get_metadata(MTL_filename):\n",
    "    mtl = open(MTL_filename, 'r')\n",
    "    keyvalues = [l.strip().split(' = ')\n",
    "                    for l in mtl.read().split('\\n')\n",
    "             if l != '' and l != 'END']\n",
    "    metadata = dict((k,v) for (k,v) in keyvalues\n",
    "                    if k.lower() != 'group'\n",
    "                       and k.lower() != 'end_group')\n",
    "    return metadata"
   ]
  },
  {
   "cell_type": "code",
   "execution_count": 8,
   "metadata": {
    "collapsed": false
   },
   "outputs": [],
   "source": [
    "def get_fullpath(Landsat_bucket,landsat_imagename,scene_path):\n",
    "    l8_rgb_orig=[Landsat_bucket+'/'+\n",
    "                landsat_imagename +'/' \n",
    "                +landsat_imagename+\n",
    "                '_b{}.tif' .format(b) for b in (4, 3, 2)]\n",
    "                \n",
    "    l8_rgb_filenames = ['{}.crop.tif'.format(b) for b in l8_rgb_orig]\n",
    "    \n",
    "    l8_meta_filename= Landsat_bucket+ '/' + landsat_imagename + '/'  + landsat_imagename + '_MTL.TXT'\n",
    "    image_stack(l8_rgb_orig, l8_rgb_filenames, scene_path)\n",
    "    return l8_rgb_filenames,l8_meta_filename\n",
    "            \n"
   ]
  },
  {
   "cell_type": "code",
   "execution_count": 9,
   "metadata": {
    "collapsed": true
   },
   "outputs": [],
   "source": [
    "def get_earth_sun_distance(doy):\n",
    "    with open('tables/sundistance.csv', 'rb') as csvfile:\n",
    "        data1 = list(csv.reader(csvfile, delimiter=','))\n",
    "    sundistance = np.array([float(row[0]) for row in data1])\n",
    "    return sundistance[doy]"
   ]
  },
  {
   "cell_type": "code",
   "execution_count": 10,
   "metadata": {
    "collapsed": false
   },
   "outputs": [],
   "source": [
    "def get_average_radiance(l8_rgb_filenames,l8_meta,alphas):\n",
    "    bnad_DN=[]\n",
    "    for fn in l8_rgb_filenames:\n",
    "            landsat_image = read_image(fn)\n",
    "            landsat_image=create_alpha(landsat_image,alphas)\n",
    "            bnad_DN.append(calculate_band_averaged_dns(landsat_image))\n",
    "    DN_mean = np.array(map(float,[b for b in bnad_DN]))\n",
    "    mtl = get_metadata(l8_meta)\n",
    "    doy = int(mtl['LANDSAT_SCENE_ID'][14:17])\n",
    "    elevation_angle=math.radians(float(mtl['SUN_ELEVATION']))\n",
    "    RADIANCE_MULT_BAND=map(float,np.array([mtl['RADIANCE_MULT_BAND_'+'%01d' % k] for k in (4, 3, 2)]))\n",
    "    RADIANCE_ADD_BAND=map(float,np.array([mtl['RADIANCE_ADD_BAND_'+'%01d' % k]for k in (4, 3, 2)]))\n",
    "    Radiance_average=(DN_mean*RADIANCE_MULT_BAND+RADIANCE_ADD_BAND)*pow(get_earth_sun_distance(doy),2)/math.sin(elevation_angle)\n",
    "    return Radiance_average"
   ]
  },
  {
   "cell_type": "code",
   "execution_count": 11,
   "metadata": {
    "collapsed": true
   },
   "outputs": [],
   "source": [
    "def create_alpha(pl_image,alphas):\n",
    "    original_alpha = pl_image.alpha\n",
    "    tap = 0\n",
    "    for tap, alpha in enumerate(alphas):\n",
    "        pl_image.alpha = np.minimum(original_alpha, alpha)\n",
    "    return pl_image\n",
    "\n",
    "\n",
    "def get_PL_avg_DN(sat,scene_path):\n",
    "    rsr_file, sensor_camera = ground_radiometric_calibration.download_pl_rsr(sat)\n",
    "    pl_image=read_image(scene_path)\n",
    "    alphas = imagemask.generate_alpha_masks(pl_image, sensor_camera)\n",
    "    pl_image = create_alpha(pl_image,alphas)\n",
    "    average_PL_DN=(calculate_band_averaged_dns(pl_image))\n",
    "    return average_PL_DN,alphas"
   ]
  },
  {
   "cell_type": "code",
   "execution_count": 12,
   "metadata": {
    "collapsed": false
   },
   "outputs": [],
   "source": [
    "def get_scene_image(bucket,sat,poly,Landsat_bucket):\n",
    "    average_PL_DN=[]\n",
    "    average_radiance=[]\n",
    "    scene_file,scene_name=scene_search_by_geojson_filter(bucket,sat,poly)\n",
    "    for scene_path,scene in zip(scene_file,scene_name):\n",
    "        average_PL,alphas= get_PL_avg_DN(sat,scene_path)\n",
    "        average_PL_DN.append(average_PL)\n",
    "        landsat_im_name=find_Landsat_image(Landsat_bucket, scene)\n",
    "        l8_rgb,l8_meta=get_fullpath(Landsat_bucket,landsat_im_name,scene_path)\n",
    "        average_radiance.append(get_average_radiance(l8_rgb,l8_meta,alphas))\n",
    "        [os.remove(b) for b in l8_rgb]   \n",
    "    return average_PL_DN,average_radiance"
   ]
  },
  {
   "cell_type": "code",
   "execution_count": 13,
   "metadata": {
    "collapsed": false
   },
   "outputs": [],
   "source": [
    "def get_sbaf():\n",
    "    sbaf_red,sbaf_green,sbaf_blue=[],[],[]\n",
    "    %run 'bander.ipynb'\n",
    "    for s in sbaf:\n",
    "        sbaf_red.append(s[0])\n",
    "        sbaf_green.append(s[1])\n",
    "        sbaf_blue.append(s[2])\n",
    "    sbaf_red=np.array(sbaf_red).mean()\n",
    "    sbaf_green=np.array(sbaf_green).mean()\n",
    "    sbaf_blue=np.array(sbaf_blue).mean()\n",
    "    sbaf_final=[sbaf_red,sbaf_green,sbaf_blue]\n",
    "    return sbaf_final\n",
    "'''def get_SBAF():\n",
    "    sbaf=[]\n",
    "    with open('tables/hyperion_libya4.csv', 'rb') as csvfile:\n",
    "        data = list(csv.reader(csvfile, delimiter=','))\n",
    "    wavelength= np.array([float(row[0]) for row in data])\n",
    "    for i in range(1:76):\n",
    "        value= np.array([float(row[i]) for row in data])\n",
    "        label,bands=bander(wavelength,value)\n",
    "        sbaf.append(bands)\n",
    "    return sbaf'''\n",
    "        \n",
    "    \n",
    "def get_regression(X,Y):\n",
    "    import scikits.statsmodels.api as sm\n",
    "    results = sm.OLS(Y,sm.add_constant(X)).fit()\n",
    "    #print results.summary()\n",
    "    plt.scatter(X,Y)\n",
    "    plt.plot(X, X*results.params[0] + results.params[1])\n",
    "    plt.xlabel('Radiance(SBAF corrected)')\n",
    "    plt.ylabel('PL_DN')\n",
    "    plt.title('$DN=%3.7s*Radiance+%3.7s$'%(results.params[0], results.params[1]), fontsize=20)\n",
    "    plt.show()\n",
    "    \n",
    "    \n",
    "    \n",
    "def get_plot(average_PL_DN,average_Landsat_DN,sbaf):\n",
    "    red_pl,red_ld=[],[]\n",
    "    green_pl,green_ld=[],[]\n",
    "    blue_pl,blue_ld=[],[] \n",
    "    corrected_radiance=[sbaf*avragedn for avragedn in average_Landsat_DN]\n",
    "    for rad,dn in zip(corrected_radiance,average_PL_DN):\n",
    "        red_pl.append(dn[0])\n",
    "        green_pl.append(dn[1])\n",
    "        blue_pl.append(dn[2])\n",
    "        red_ld.append(rad[0])\n",
    "        green_ld.append(rad[1])\n",
    "        blue_ld.append(rad[2])\n",
    "    get_regression(np.array(red_ld),np.array(red_pl))\n",
    "    get_regression(np.array(green_ld),np.array(green_pl))\n",
    "    get_regression(np.array(blue_ld),np.array(blue_pl))\n"
   ]
  },
  {
   "cell_type": "code",
   "execution_count": null,
   "metadata": {
    "collapsed": true
   },
   "outputs": [],
   "source": []
  },
  {
   "cell_type": "code",
   "execution_count": null,
   "metadata": {
    "collapsed": false
   },
   "outputs": [],
   "source": [
    "Landsat_bucket='/opt/research-studies/landsat/cross_calibration'\n",
    "average_PL_DN,average_Landsat_DN=get_scene_image('flock1_rectified','090c','polygon.geojson',Landsat_bucket)\n"
   ]
  },
  {
   "cell_type": "code",
   "execution_count": null,
   "metadata": {
    "collapsed": false
   },
   "outputs": [],
   "source": [
    "sbaf_averaged =get_sbaf()\n",
    "get_plot(average_PL_DN,average_Landsat_DN,sbaf_averaged)"
   ]
  },
  {
   "cell_type": "code",
   "execution_count": 21,
   "metadata": {
    "collapsed": false
   },
   "outputs": [
    {
     "data": {
      "text/plain": [
       "[0.98051020805916977, 0.93281669906801268, 0.97496640414541413]"
      ]
     },
     "execution_count": 21,
     "metadata": {},
     "output_type": "execute_result"
    }
   ],
   "source": [
    "sbaf_averaged"
   ]
  },
  {
   "cell_type": "code",
   "execution_count": 16,
   "metadata": {
    "collapsed": false
   },
   "outputs": [
    {
     "data": {
      "image/png": "[encoded data removed]",
      "text/plain": [
       "<matplotlib.figure.Figure at 0x4811150>"
      ]
     },
     "metadata": {},
     "output_type": "display_data"
    }
   ],
   "source": [
    "fig = plt.figure()\n",
    "ax = fig.add_subplot(111)\n",
    "ax.hold(True)\n",
    "with open('tables/hyperion_libya4.csv', 'rb') as csvfile:\n",
    "    data = list(csv.reader(csvfile, delimiter=','))\n",
    "wavelength= np.array([float(row[0]) for row in data])\n",
    "for i in range(1,74):\n",
    "    value= np.array([float(row[i]) for row in data])\n",
    "    ax.plot(wavelength, value)\n",
    "    plt.xlabel('Wavelength (nm)')\n",
    "    plt.ylabel('Radiance')\n",
    "    ax.grid(True)\n",
    "fig.suptitle('Hyperion Profile for Libya 4',fontsize=20)\n",
    "plt.show()\n",
    "        #label,bands=bander(wavelength,value)\n",
    "        #sbaf.append(bands)\n",
    "    #return sbaf"
   ]
  },
  {
   "cell_type": "code",
   "execution_count": null,
   "metadata": {
    "collapsed": false
   },
   "outputs": [],
   "source": []
  },
  {
   "cell_type": "code",
   "execution_count": null,
   "metadata": {
    "collapsed": false
   },
   "outputs": [],
   "source": []
  },
  {
   "cell_type": "code",
   "execution_count": null,
   "metadata": {
    "collapsed": false
   },
   "outputs": [],
   "source": []
  },
  {
   "cell_type": "code",
   "execution_count": null,
   "metadata": {
    "collapsed": false
   },
   "outputs": [],
   "source": []
  },
  {
   "cell_type": "code",
   "execution_count": null,
   "metadata": {
    "collapsed": false
   },
   "outputs": [],
   "source": []
  },
  {
   "cell_type": "code",
   "execution_count": null,
   "metadata": {
    "collapsed": false
   },
   "outputs": [],
   "source": []
  },
  {
   "cell_type": "code",
   "execution_count": null,
   "metadata": {
    "collapsed": false
   },
   "outputs": [],
   "source": []
  },
  {
   "cell_type": "code",
   "execution_count": null,
   "metadata": {
    "collapsed": false
   },
   "outputs": [],
   "source": []
  },
  {
   "cell_type": "code",
   "execution_count": null,
   "metadata": {
    "collapsed": false
   },
   "outputs": [],
   "source": []
  },
  {
   "cell_type": "code",
   "execution_count": null,
   "metadata": {
    "collapsed": false
   },
   "outputs": [],
   "source": []
  },
  {
   "cell_type": "code",
   "execution_count": null,
   "metadata": {
    "collapsed": false
   },
   "outputs": [],
   "source": []
  },
  {
   "cell_type": "code",
   "execution_count": null,
   "metadata": {
    "collapsed": false
   },
   "outputs": [],
   "source": []
  },
  {
   "cell_type": "code",
   "execution_count": null,
   "metadata": {
    "collapsed": false
   },
   "outputs": [],
   "source": []
  },
  {
   "cell_type": "code",
   "execution_count": null,
   "metadata": {
    "collapsed": true
   },
   "outputs": [],
   "source": []
  }
 ],
 "metadata": {
  "kernelspec": {
   "display_name": "Python 2",
   "language": "python",
   "name": "python2"
  },
  "language_info": {
   "codemirror_mode": {
    "name": "ipython",
    "version": 2
   },
   "file_extension": ".py",
   "mimetype": "text/x-python",
   "name": "python",
   "nbconvert_exporter": "python",
   "pygments_lexer": "ipython2",
   "version": "2.7.3"
  }
 },
 "nbformat": 4,
 "nbformat_minor": 0
}
